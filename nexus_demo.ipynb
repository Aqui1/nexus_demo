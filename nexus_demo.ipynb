{
 "cells": [
  {
   "cell_type": "code",
   "execution_count": 4,
   "id": "87d291ad",
   "metadata": {},
   "outputs": [],
   "source": [
    "import requests\n",
    "import json"
   ]
  },
  {
   "cell_type": "code",
   "execution_count": 21,
   "id": "8fd76963",
   "metadata": {},
   "outputs": [
    {
     "name": "stdout",
     "output_type": "stream",
     "text": [
      "{'data': '[{\"catalog_number\": \"L72\", \"estimated_magnitude\": -3.0915833562349526}, {\"catalog_number\": \"L335\", \"estimated_magnitude\": 1.9262806581978111}, {\"catalog_number\": \"L1159\", \"estimated_magnitude\": 2.755839615780772}, {\"catalog_number\": \"L2669\", \"estimated_magnitude\": 1.817076246341621}, {\"catalog_number\": \"L3226\", \"estimated_magnitude\": 1.6977931236247663}, {\"catalog_number\": \"L3969\", \"estimated_magnitude\": 3.0377019472034164}, {\"catalog_number\": \"L3972\", \"estimated_magnitude\": 3.0582880400634735}, {\"catalog_number\": \"L4884\", \"estimated_magnitude\": 5.4775542092148655}, {\"catalog_number\": \"L5011\", \"estimated_magnitude\": 4.20850426372024}, {\"catalog_number\": \"L5429\", \"estimated_magnitude\": 2.544855077852578}, {\"catalog_number\": \"L6888\", \"estimated_magnitude\": 2.817868506423906}]', 'status': 'success'}\n"
     ]
    }
   ],
   "source": [
    "# First retrieve the satellite catalog using the \"test\" key\n",
    "url = \"https://aquila-app.ts.r.appspot.com/satellite/catalog/test\"\n",
    "\n",
    "response = requests.request(\"GET\", url).text\n",
    "# Now load the data in JSON format\n",
    "response = json.loads(response)\n",
    "\n",
    "# Show what the response looks like\n",
    "print(response)\n",
    "\n",
    "# Now we extract the catalog\n",
    "catalog = json.loads(response[\"data\"])"
   ]
  },
  {
   "cell_type": "code",
   "execution_count": 22,
   "id": "7605c439",
   "metadata": {},
   "outputs": [
    {
     "data": {
      "text/plain": [
       "[{'catalog_number': 'L72', 'estimated_magnitude': -3.0915833562349526},\n",
       " {'catalog_number': 'L335', 'estimated_magnitude': 1.9262806581978111},\n",
       " {'catalog_number': 'L1159', 'estimated_magnitude': 2.755839615780772},\n",
       " {'catalog_number': 'L2669', 'estimated_magnitude': 1.817076246341621},\n",
       " {'catalog_number': 'L3226', 'estimated_magnitude': 1.6977931236247663},\n",
       " {'catalog_number': 'L3969', 'estimated_magnitude': 3.0377019472034164},\n",
       " {'catalog_number': 'L3972', 'estimated_magnitude': 3.0582880400634735},\n",
       " {'catalog_number': 'L4884', 'estimated_magnitude': 5.4775542092148655},\n",
       " {'catalog_number': 'L5011', 'estimated_magnitude': 4.20850426372024},\n",
       " {'catalog_number': 'L5429', 'estimated_magnitude': 2.544855077852578},\n",
       " {'catalog_number': 'L6888', 'estimated_magnitude': 2.817868506423906}]"
      ]
     },
     "execution_count": 22,
     "metadata": {},
     "output_type": "execute_result"
    }
   ],
   "source": [
    "# Print the test catalog below to view objects and magnitude information\n",
    "catalog"
   ]
  },
  {
   "cell_type": "code",
   "execution_count": 50,
   "id": "c007fea2",
   "metadata": {},
   "outputs": [
    {
     "name": "stdout",
     "output_type": "stream",
     "text": [
      "[{'catalog_number': 'L72', 'estimated_magnitude': -3.0915833562349526}, {'catalog_number': 'L335', 'estimated_magnitude': 1.9262806581978111}, {'catalog_number': 'L1159', 'estimated_magnitude': 2.755839615780772}, {'catalog_number': 'L2669', 'estimated_magnitude': 1.817076246341621}, {'catalog_number': 'L3226', 'estimated_magnitude': 1.6977931236247663}, {'catalog_number': 'L5429', 'estimated_magnitude': 2.544855077852578}, {'catalog_number': 'L6888', 'estimated_magnitude': 2.817868506423906}]\n",
      "\n",
      "L72,L335,L1159,L2669,L3226,L5429,L6888\n"
     ]
    }
   ],
   "source": [
    "# Let's select all satellites with estimated magnitude <= 3.0\n",
    "refined_catalog = []\n",
    "for obj in catalog:\n",
    "    if obj['estimated_magnitude'] <= 3.0:\n",
    "        refined_catalog.append(obj)\n",
    "        \n",
    "print(refined_catalog)\n",
    "\n",
    "# Extract catalog numbers as a string\n",
    "catalog_numbers = \"\"\n",
    "for obj in refined_catalog:\n",
    "    catalog_numbers += f\"{obj['catalog_number']},\"\n",
    "# Take out the trailing comma\n",
    "catalog_numbers = catalog_numbers[:-1]\n",
    "    \n",
    "print()\n",
    "print(catalog_numbers)"
   ]
  },
  {
   "cell_type": "code",
   "execution_count": 51,
   "id": "4f2c716a",
   "metadata": {},
   "outputs": [],
   "source": [
    "# Suppose we're observing the Large Magellanic Cloud, then\n",
    "declination = -69.7561\n",
    "right_ascension = 75.39277\n",
    "\n",
    "# Convert everything to string so it's serialisable\n",
    "target = str([right_ascension, declination])\n",
    "\n",
    "# Suppose we're interested in satellites that pass within 20 degrees of our target\n",
    "threshold = \"20\"\n",
    "\n",
    "# And we're interested in passes occurring over the next 24 hours (86400 seconds)\n",
    "time = \"86400\"\n",
    "\n",
    "# Our data is as follows\n",
    "data = { \"catalog_objects\": catalog_numbers, \n",
    "        \"threshold\": threshold, \"target\": target, \"time\": time }\n",
    "\n",
    "data = json.dumps(data)"
   ]
  },
  {
   "cell_type": "code",
   "execution_count": 53,
   "id": "f691351d",
   "metadata": {},
   "outputs": [
    {
     "name": "stdout",
     "output_type": "stream",
     "text": [
      "{\"data\":[{\"L335\":[{\"begins_close_approach\":\"2022-03-13 17:59:41+00:00\",\"closest_approach\":\"2022-03-13 18:00:01.130000+00:00\",\"closest_separation\":\"0.06692598581254328\",\"ends_close_approach\":\"2022-03-13 18:00:41+00:00\",\"estimated_magnitude\":\"4.672565209971545\",\"is_sunlit\":1}]},{\"L1159\":[{\"begins_close_approach\":\"2022-03-13 12:51:15+00:00\",\"closest_approach\":\"2022-03-13 12:51:50.430000+00:00\",\"closest_separation\":\"8.806332002249723\",\"ends_close_approach\":\"2022-03-13 12:52:15+00:00\",\"estimated_magnitude\":\"4.699309894135112\",\"is_sunlit\":0}]},{\"L6888\":[{\"begins_close_approach\":\"2022-03-13 09:31:49+00:00\",\"closest_approach\":\"2022-03-13 09:32:26.800000+00:00\",\"closest_separation\":\"15.492132032633409\",\"ends_close_approach\":\"2022-03-13 09:32:49+00:00\",\"estimated_magnitude\":\"3.6983950697512675\",\"is_sunlit\":1}]}],\"status\":\"success\"}\n"
     ]
    }
   ],
   "source": [
    "# Now let's make the request\n",
    "url = \"https://aquila-app.ts.r.appspot.com/satellite/passes/test\"\n",
    "headers = {\n",
    "  'Content-Type': 'application/json'\n",
    "}\n",
    "response = requests.request(\"POST\", url, headers=headers, data = data)\n",
    "\n",
    "# The response should load within a few 10s of seconds\n",
    "print(response.text)"
   ]
  },
  {
   "cell_type": "code",
   "execution_count": 58,
   "id": "d0eb7bb1",
   "metadata": {},
   "outputs": [
    {
     "name": "stdout",
     "output_type": "stream",
     "text": [
      "{\"data\":[{\"L335\":[{\"begins_close_approach\":\"2022-03-13 17:59:41+00:00\",\"closest_approach\":\"2022-03-13 18:00:01.130000+00:00\",\"closest_separation\":\"0.06692598581254328\",\"ends_close_approach\":\"2022-03-13 18:00:41+00:00\",\"estimated_magnitude\":\"4.672565209971545\",\"is_sunlit\":1}]},{\"L1159\":[{\"begins_close_approach\":\"2022-03-13 12:51:15+00:00\",\"closest_approach\":\"2022-03-13 12:51:50.430000+00:00\",\"closest_separation\":\"8.806332002249723\",\"ends_close_approach\":\"2022-03-13 12:52:15+00:00\",\"estimated_magnitude\":\"4.699309894135112\",\"is_sunlit\":0}]},{\"L3969\":[{\"begins_close_approach\":\"2022-03-13 19:45:08+00:00\",\"closest_approach\":\"2022-03-13 19:45:52.660000+00:00\",\"closest_separation\":\"10.23893731867151\",\"ends_close_approach\":\"2022-03-13 19:46:08+00:00\",\"estimated_magnitude\":\"6.598827248174956\",\"is_sunlit\":1}]},{\"L3972\":[{\"begins_close_approach\":\"2022-03-13 19:45:15+00:00\",\"closest_approach\":\"2022-03-13 19:45:39.440000+00:00\",\"closest_separation\":\"9.223180782854111\",\"ends_close_approach\":\"2022-03-13 19:46:15+00:00\",\"estimated_magnitude\":\"6.417573901253093\",\"is_sunlit\":1}]},{\"L5011\":[{\"begins_close_approach\":\"2022-03-13 19:40:01+00:00\",\"closest_approach\":\"2022-03-13 19:40:54.490000+00:00\",\"closest_separation\":\"2.7291300274477437\",\"ends_close_approach\":\"2022-03-13 19:41:01+00:00\",\"estimated_magnitude\":\"6.8648477472364675\",\"is_sunlit\":1}]},{\"L6888\":[{\"begins_close_approach\":\"2022-03-13 09:31:49+00:00\",\"closest_approach\":\"2022-03-13 09:32:26.800000+00:00\",\"closest_separation\":\"15.492132032633409\",\"ends_close_approach\":\"2022-03-13 09:32:49+00:00\",\"estimated_magnitude\":\"3.6983950697512675\",\"is_sunlit\":1}]}],\"status\":\"success\"}\n"
     ]
    }
   ],
   "source": [
    "# Alternately, we can set the catalog objects to all and not include the timer\n",
    "# This will default for 24 hours in advance\n",
    "# Our data is as follows\n",
    "data = { \"catalog_objects\": \"all\", \n",
    "        \"threshold\": threshold, \"target\": target}\n",
    "data = json.dumps(data)\n",
    "\n",
    "# Now let's make the request\n",
    "response = requests.request(\"POST\", url, headers=headers, data = data)\n",
    "\n",
    "# The response should load within a few 10s of seconds\n",
    "print(response.text)"
   ]
  },
  {
   "cell_type": "code",
   "execution_count": 57,
   "id": "24bda9ed",
   "metadata": {},
   "outputs": [
    {
     "data": {
      "text/plain": [
       "{'catalog_objects': 'all', 'threshold': '20', 'target': '[75.39277, -69.7561]'}"
      ]
     },
     "execution_count": 57,
     "metadata": {},
     "output_type": "execute_result"
    }
   ],
   "source": [
    "data"
   ]
  },
  {
   "cell_type": "code",
   "execution_count": null,
   "id": "259163af",
   "metadata": {},
   "outputs": [],
   "source": []
  }
 ],
 "metadata": {
  "kernelspec": {
   "display_name": "Python 3 (ipykernel)",
   "language": "python",
   "name": "python3"
  },
  "language_info": {
   "codemirror_mode": {
    "name": "ipython",
    "version": 3
   },
   "file_extension": ".py",
   "mimetype": "text/x-python",
   "name": "python",
   "nbconvert_exporter": "python",
   "pygments_lexer": "ipython3",
   "version": "3.9.7"
  }
 },
 "nbformat": 4,
 "nbformat_minor": 5
}
